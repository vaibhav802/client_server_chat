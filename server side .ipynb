{
 "cells": [
  {
   "cell_type": "code",
   "execution_count": 4,
   "metadata": {},
   "outputs": [
    {
     "name": "stdout",
     "output_type": "stream",
     "text": [
      "Overwriting chatserver.py\n"
     ]
    }
   ],
   "source": [
    "%%writefile chatserver.py\n",
    "import socket \n",
    "import threading \n",
    "\n",
    "\n",
    "def send(client):\n",
    "    while True:\n",
    "        msg = input('Server - ')\n",
    "        if msg.lower() == 'bye':\n",
    "            client.send(msg.encode())\n",
    "            break\n",
    "        else:\n",
    "            client.send(msg.encode())\n",
    "            \n",
    "def recv(client):\n",
    "    while True:\n",
    "        msg = client.recv(1024).decode()\n",
    "        if msg.lower()== 'bye':\n",
    "            print('Client - ',msg)\n",
    "            break\n",
    "        else:\n",
    "            print('Client - ',msg)\n",
    "\n",
    "server = socket.socket()\n",
    "\n",
    "host = '192.168.1.3'\n",
    "port = 12345\n",
    "\n",
    "server.bind((host,port))\n",
    "\n",
    "server.listen()\n",
    "\n",
    "client,addr = server.accept()\n",
    "\n",
    "send_thread = threading.Thread(target = send ,args = (client,))\n",
    "recv_thread = threading.Thread(target = recv ,args = (client,))\n",
    "\n",
    "send_thread.start()\n",
    "recv_thread.start()\n",
    "\n",
    "send_thread.join()\n",
    "recv_thread.join()\n",
    "\n",
    "server.close()\n",
    "client.close()\n"
   ]
  },
  {
   "cell_type": "code",
   "execution_count": null,
   "metadata": {},
   "outputs": [],
   "source": []
  }
 ],
 "metadata": {
  "kernelspec": {
   "display_name": "Python 3",
   "language": "python",
   "name": "python3"
  },
  "language_info": {
   "codemirror_mode": {
    "name": "ipython",
    "version": 3
   },
   "file_extension": ".py",
   "mimetype": "text/x-python",
   "name": "python",
   "nbconvert_exporter": "python",
   "pygments_lexer": "ipython3",
   "version": "3.8.3"
  }
 },
 "nbformat": 4,
 "nbformat_minor": 4
}
