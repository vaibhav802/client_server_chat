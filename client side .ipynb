{
 "cells": [
  {
   "cell_type": "code",
   "execution_count": 1,
   "metadata": {},
   "outputs": [
    {
     "name": "stdout",
     "output_type": "stream",
     "text": [
      "\n",
      "Windows IP Configuration\n",
      "\n",
      "\n",
      "Ethernet adapter Ethernet:\n",
      "\n",
      "   Media State . . . . . . . . . . . : Media disconnected\n",
      "   Connection-specific DNS Suffix  . : bbrouter\n",
      "\n",
      "Wireless LAN adapter Local Area Connection* 2:\n",
      "\n",
      "   Media State . . . . . . . . . . . : Media disconnected\n",
      "   Connection-specific DNS Suffix  . : \n",
      "\n",
      "Wireless LAN adapter Local Area Connection* 4:\n",
      "\n",
      "   Media State . . . . . . . . . . . : Media disconnected\n",
      "   Connection-specific DNS Suffix  . : \n",
      "\n",
      "Ethernet adapter VMware Network Adapter VMnet1:\n",
      "\n",
      "   Connection-specific DNS Suffix  . : \n",
      "   Link-local IPv6 Address . . . . . : fe80::6054:90d9:1cf1:a9bb%7\n",
      "   IPv4 Address. . . . . . . . . . . : 192.168.159.1\n",
      "   Subnet Mask . . . . . . . . . . . : 255.255.255.0\n",
      "   Default Gateway . . . . . . . . . : \n",
      "\n",
      "Ethernet adapter VMware Network Adapter VMnet8:\n",
      "\n",
      "   Connection-specific DNS Suffix  . : \n",
      "   Link-local IPv6 Address . . . . . : fe80::6076:3e4f:6cb9:dc8b%6\n",
      "   IPv4 Address. . . . . . . . . . . : 192.168.253.1\n",
      "   Subnet Mask . . . . . . . . . . . : 255.255.255.0\n",
      "   Default Gateway . . . . . . . . . : \n",
      "\n",
      "Wireless LAN adapter Wi-Fi:\n",
      "\n",
      "   Connection-specific DNS Suffix  . : bbrouter\n",
      "   Link-local IPv6 Address . . . . . : fe80::482a:603e:af2f:1388%14\n",
      "   IPv4 Address. . . . . . . . . . . : 192.168.1.3\n",
      "   Subnet Mask . . . . . . . . . . . : 255.255.255.0\n",
      "   Default Gateway . . . . . . . . . : 192.168.1.1\n",
      "\n",
      "Tunnel adapter isatap.{614667A0-A3CA-47DB-BA2C-526618DA506C}:\n",
      "\n",
      "   Media State . . . . . . . . . . . : Media disconnected\n",
      "   Connection-specific DNS Suffix  . : \n",
      "\n",
      "Tunnel adapter Teredo Tunneling Pseudo-Interface:\n",
      "\n",
      "   Connection-specific DNS Suffix  . : \n",
      "   IPv6 Address. . . . . . . . . . . : 2001:0:348b:fb58:185a:82a0:98ad:af21\n",
      "   Link-local IPv6 Address . . . . . : fe80::185a:82a0:98ad:af21%2\n",
      "   Default Gateway . . . . . . . . . : ::\n",
      "\n",
      "Tunnel adapter isatap.{4297B77B-562D-42AD-82A6-6832ECF1E6ED}:\n",
      "\n",
      "   Media State . . . . . . . . . . . : Media disconnected\n",
      "   Connection-specific DNS Suffix  . : \n",
      "\n",
      "Tunnel adapter isatap.bbrouter:\n",
      "\n",
      "   Media State . . . . . . . . . . . : Media disconnected\n",
      "   Connection-specific DNS Suffix  . : bbrouter\n"
     ]
    }
   ],
   "source": [
    "!ipconfig"
   ]
  },
  {
   "cell_type": "code",
   "execution_count": 6,
   "metadata": {},
   "outputs": [
    {
     "name": "stdout",
     "output_type": "stream",
     "text": [
      "Overwriting chatclient.py\n"
     ]
    }
   ],
   "source": [
    "%%writefile chatclient.py\n",
    "import socket \n",
    "import threading\n",
    "\n",
    "def send(client):\n",
    "    while True:\n",
    "        msg = input('Client - ')\n",
    "        if msg.lower()=='bye':\n",
    "            client.send(msg.encode())\n",
    "            break\n",
    "        else:\n",
    "            client.send(msg.encode())\n",
    "        \n",
    "        \n",
    "def recv(client):\n",
    "    while True:\n",
    "        msg = client.recv(1024).decode()\n",
    "        if msg.lower()=='bye':\n",
    "            print('Server - ',msg)\n",
    "            break\n",
    "        else:\n",
    "            print('Server - ',msg)\n",
    "\n",
    "client = socket.socket()\n",
    "host = '192.168.1.3'\n",
    "port = 12345\n",
    "\n",
    "client.connect((host,port))\n",
    "\n",
    "send_thread = threading.Thread(target=send,args= (client,))\n",
    "recv_thread = threading.Thread(target =recv,args=(client,))\n",
    "\n",
    "send_thread.start()\n",
    "recv_thread.start()\n",
    "send_thread.join()\n",
    "recv_thread.join()\n",
    "client.close()"
   ]
  },
  {
   "cell_type": "code",
   "execution_count": null,
   "metadata": {},
   "outputs": [],
   "source": []
  },
  {
   "cell_type": "code",
   "execution_count": null,
   "metadata": {},
   "outputs": [],
   "source": []
  }
 ],
 "metadata": {
  "kernelspec": {
   "display_name": "Python 3",
   "language": "python",
   "name": "python3"
  },
  "language_info": {
   "codemirror_mode": {
    "name": "ipython",
    "version": 3
   },
   "file_extension": ".py",
   "mimetype": "text/x-python",
   "name": "python",
   "nbconvert_exporter": "python",
   "pygments_lexer": "ipython3",
   "version": "3.8.3"
  }
 },
 "nbformat": 4,
 "nbformat_minor": 4
}
